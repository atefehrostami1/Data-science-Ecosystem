{
 "cells": [
  {
   "cell_type": "markdown",
   "id": "104452c3",
   "metadata": {},
   "source": [
    "# Data Science Tools and Ecosystem"
   ]
  },
  {
   "cell_type": "markdown",
   "id": "5b7312b3",
   "metadata": {},
   "source": []
  },
  {
   "cell_type": "markdown",
   "id": "e56877cb",
   "metadata": {},
   "source": [
    "In this notebook, Data Science Tools and Ecosystem are summarized"
   ]
  },
  {
   "cell_type": "markdown",
   "id": "47e93e73",
   "metadata": {},
   "source": [
    " **Objectives:**\n",
    " \n",
    " list popular languages for Data Science\n",
    " \n",
    " list commonly used libraries for Data Science\n",
    " \n",
    " list tools Data science \n",
    " \n",
    " simple arithmetic expression to mutiply then add integers\n",
    " \n",
    " converting 200 minutes to hours by diving by 60\n"
   ]
  },
  {
   "cell_type": "markdown",
   "id": "0597d192",
   "metadata": {},
   "source": [
    "Some of the popular languages that Data Scientists use are:\n",
    "\n",
    "1-python\n",
    "\n",
    "2-Rstudio\n",
    "\n",
    "3-SQL\n",
    "\n",
    "4-JAVA"
   ]
  },
  {
   "cell_type": "markdown",
   "id": "facec91a",
   "metadata": {},
   "source": [
    "Some of the commonly used libraries used by Data Scientists include:\n",
    "\n",
    "1-pandas\n",
    "\n",
    "2-numpy\n",
    "\n",
    "3-matplotlib\n",
    "\n",
    "4-seaborn"
   ]
  },
  {
   "cell_type": "raw",
   "id": "fbd1353c",
   "metadata": {},
   "source": [
    "Data Science ToolsData Science Tools\n",
    "\n",
    "1-Jupyter Notebook\n",
    "\n",
    "2-Rstudio\n",
    "\n",
    "3-Python libraries\n"
   ]
  },
  {
   "cell_type": "markdown",
   "id": "d5404d8b",
   "metadata": {},
   "source": [
    "|Data Science Tools|\n",
    "|-----------------|\n",
    "|Jupyter Notebook|\n",
    "|Rstudio|\n",
    "|Python libraries|\n",
    "\n",
    "\n"
   ]
  },
  {
   "cell_type": "markdown",
   "id": "c6d4e69f",
   "metadata": {},
   "source": [
    "### Below are a few examples of evaluating arithmetic expressions in Python"
   ]
  },
  {
   "cell_type": "code",
   "execution_count": 2,
   "id": "ebcf8eb8",
   "metadata": {},
   "outputs": [
    {
     "data": {
      "text/plain": [
       "17"
      ]
     },
     "execution_count": 2,
     "metadata": {},
     "output_type": "execute_result"
    }
   ],
   "source": [
    "#This a simple arithmetic expression to mutiply then add integers\n",
    "(3*4)+5"
   ]
  },
  {
   "cell_type": "code",
   "execution_count": 4,
   "id": "ed29da02",
   "metadata": {},
   "outputs": [
    {
     "data": {
      "text/plain": [
       "3.3333333333333335"
      ]
     },
     "execution_count": 4,
     "metadata": {},
     "output_type": "execute_result"
    }
   ],
   "source": [
    "# This will convert 200 minutes to hours by diving by 60\n",
    "\n",
    "(200/60)\n"
   ]
  },
  {
   "cell_type": "markdown",
   "id": "c74667ce",
   "metadata": {},
   "source": [
    "## Author :\n",
    "\n",
    "Atefeh"
   ]
  },
  {
   "cell_type": "code",
   "execution_count": null,
   "id": "0b3b1ae3",
   "metadata": {},
   "outputs": [],
   "source": []
  }
 ],
 "metadata": {
  "kernelspec": {
   "display_name": "Python 3 (ipykernel)",
   "language": "python",
   "name": "python3"
  },
  "language_info": {
   "codemirror_mode": {
    "name": "ipython",
    "version": 3
   },
   "file_extension": ".py",
   "mimetype": "text/x-python",
   "name": "python",
   "nbconvert_exporter": "python",
   "pygments_lexer": "ipython3",
   "version": "3.11.5"
  }
 },
 "nbformat": 4,
 "nbformat_minor": 5
}
